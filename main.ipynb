{
  "nbformat": 4,
  "nbformat_minor": 0,
  "metadata": {
    "colab": {
      "provenance": [],
      "authorship_tag": "ABX9TyN8fzVfPVV1KITZQB5CUJ72",
      "include_colab_link": true
    },
    "kernelspec": {
      "name": "python3",
      "display_name": "Python 3"
    },
    "language_info": {
      "name": "python"
    }
  },
  "cells": [
    {
      "cell_type": "markdown",
      "metadata": {
        "id": "view-in-github",
        "colab_type": "text"
      },
      "source": [
        "<a href=\"https://colab.research.google.com/github/Ibanez2000/colabPlayground/blob/main/main.ipynb\" target=\"_parent\"><img src=\"https://colab.research.google.com/assets/colab-badge.svg\" alt=\"Open In Colab\"/></a>"
      ]
    },
    {
      "cell_type": "code",
      "execution_count": 59,
      "metadata": {
        "colab": {
          "base_uri": "https://localhost:8080/"
        },
        "id": "fTU1o6fIL7QL",
        "outputId": "5cf68600-08ec-416e-e17c-25257c7e9fed"
      },
      "outputs": [
        {
          "output_type": "stream",
          "name": "stdout",
          "text": [
            "ああ\n"
          ]
        }
      ],
      "source": [
        "import requests\n",
        "import json\n",
        "\n",
        "response = requests.get('https://raw.githubusercontent.com/Ibanez2000/wandering/main/files/japanese/jlpt5/jlpt5.json');\n",
        "\n",
        "data = json.loads(response.content);\n",
        "\n",
        "#write the first entry hiragana of this python dictionary for key jlpt5\n",
        "print(data['jlpt5'][0]['hiragana']);\n"
      ]
    },
    {
      "cell_type": "code",
      "source": [],
      "metadata": {
        "id": "aJG1b1L3MBEx"
      },
      "execution_count": null,
      "outputs": []
    }
  ]
}