{
  "nbformat": 4,
  "nbformat_minor": 0,
  "metadata": {
    "colab": {
      "provenance": [],
      "authorship_tag": "ABX9TyNNzhr9GYiJbeCLoOnsaaUb",
      "include_colab_link": true
    },
    "kernelspec": {
      "name": "python3",
      "display_name": "Python 3"
    },
    "language_info": {
      "name": "python"
    }
  },
  "cells": [
    {
      "cell_type": "markdown",
      "metadata": {
        "id": "view-in-github",
        "colab_type": "text"
      },
      "source": [
        "<a href=\"https://colab.research.google.com/github/Ibanez2000/colabPlayground/blob/main/main.ipynb\" target=\"_parent\"><img src=\"https://colab.research.google.com/assets/colab-badge.svg\" alt=\"Open In Colab\"/></a>"
      ]
    },
    {
      "cell_type": "code",
      "execution_count": 31,
      "metadata": {
        "id": "fTU1o6fIL7QL"
      },
      "outputs": [],
      "source": [
        "import requests\n",
        "import json\n",
        "import gtts\n",
        "import os\n",
        "import pyzip\n",
        "\n",
        "\n",
        "response = requests.get('https://raw.githubusercontent.com/Ibanez2000/wandering/main/files/japanese/jlpt5/jlpt5.json');\n",
        "\n",
        "data = json.loads(response.content);\n",
        "\n"
      ]
    },
    {
      "cell_type": "code",
      "source": [
        "key = 'jlpt5';\n",
        "print(len(data[key]));\n",
        "\n",
        "#Create folder if does not exist\n",
        "if os.path.exists(key):\n",
        "  print('The directory exists.')\n",
        "else:\n",
        "  os.mkdir(key);\n",
        "\n",
        "#Create the Mp3s\n",
        "for i in range(0,len(data[key])):\n",
        "  text = data[key][i]['hiragana'];\n",
        "  tts = gtts.gTTS(text, lang=\"ja\");\n",
        "  tts.save(os.path.join(key, str(i) + \".mp3\"))\n",
        "\n"
      ],
      "metadata": {
        "id": "5JIcJbaS_qUi"
      },
      "execution_count": null,
      "outputs": []
    },
    {
      "cell_type": "code",
      "source": [
        "import pyzip\n",
        "key = 'jlpt5'\n",
        "# Get the current working directory.\n",
        "current_dir = os.getcwd()\n",
        "\n",
        "# Create a ZIP file object.\n",
        "zip_file = pyzip.ZipFile('all_mp3s.zip', 'w')\n",
        "\n",
        "# Iterate over all MP3 files in the `jlpt` directory.\n",
        "for file in os.listdir(os.path.join(current_dir, key)):\n",
        "  if file.endswith('.mp3'):\n",
        "    # Add the MP3 file to the ZIP file.\n",
        "    zip_file.write(os.path.join(key, file))\n",
        "\n",
        "# Close the ZIP file.\n",
        "zip_file.close()\n"
      ],
      "metadata": {
        "id": "Grwp7ewTBujs"
      },
      "execution_count": 44,
      "outputs": []
    },
    {
      "cell_type": "code",
      "source": [],
      "metadata": {
        "id": "K5eN60qUFbRY"
      },
      "execution_count": null,
      "outputs": []
    }
  ]
}